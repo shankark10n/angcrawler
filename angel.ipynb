{
 "metadata": {
  "name": "angel"
 }, 
 "nbformat": 2, 
 "worksheets": [
  {
   "cells": [
    {
     "cell_type": "code", 
     "collapsed": true, 
     "input": [
      "init"
     ], 
     "language": "python", 
     "outputs": [], 
     "prompt_number": 47
    }, 
    {
     "cell_type": "code", 
     "collapsed": false, 
     "input": [
      "pwd"
     ], 
     "language": "python", 
     "outputs": [
      {
       "output_type": "pyout", 
       "prompt_number": 48, 
       "text": [
        "u'/home/shankar/work/box/projects/angel'"
       ]
      }
     ], 
     "prompt_number": 48
    }, 
    {
     "cell_type": "code", 
     "collapsed": true, 
     "input": [
      "nodes_json=[l.strip() for l in open('angel_nodes.20140319.json').readlines()]"
     ], 
     "language": "python", 
     "outputs": [], 
     "prompt_number": 2
    }, 
    {
     "cell_type": "code", 
     "collapsed": false, 
     "input": [
      "nodes_json[0]"
     ], 
     "language": "python", 
     "outputs": [
      {
       "output_type": "pyout", 
       "prompt_number": 3, 
       "text": [
        "'{ \"_id\" : { \"$oid\" : \"52fd628d3a90ee3bc5000001\" }, \"name\" : \"BackOps \", \"id\" : 93098 }'"
       ]
      }
     ], 
     "prompt_number": 3
    }, 
    {
     "cell_type": "code", 
     "collapsed": true, 
     "input": [
      "import json"
     ], 
     "language": "python", 
     "outputs": [], 
     "prompt_number": 4
    }, 
    {
     "cell_type": "code", 
     "collapsed": true, 
     "input": [
      "nodes=pd.DataFrame([json.loads(i) for i in nodes_json])"
     ], 
     "language": "python", 
     "outputs": [], 
     "prompt_number": 5
    }, 
    {
     "cell_type": "code", 
     "collapsed": true, 
     "input": [
      "edges=pd.read_csv('angel_edges.20140319.csv')"
     ], 
     "language": "python", 
     "outputs": [], 
     "prompt_number": 6
    }, 
    {
     "cell_type": "code", 
     "collapsed": false, 
     "input": [
      "edges.take(range(0,10))"
     ], 
     "language": "python", 
     "outputs": [
      {
       "html": [
        "<div style=\"max-height:1000px;max-width:1500px;overflow:auto;\">", 
        "<table border=\"1\" class=\"dataframe\">", 
        "  <thead>", 
        "    <tr style=\"text-align: right;\">", 
        "      <th></th>", 
        "      <th>v1</th>", 
        "      <th>v2</th>", 
        "      <th>role</th>", 
        "    </tr>", 
        "  </thead>", 
        "  <tbody>", 
        "    <tr>", 
        "      <th>0</th>", 
        "      <td> 93098:startup</td>", 
        "      <td>      2:user</td>", 
        "      <td> past_investor</td>", 
        "    </tr>", 
        "    <tr>", 
        "      <th>1</th>", 
        "      <td>  6702:startup</td>", 
        "      <td>      2:user</td>", 
        "      <td>  board_member</td>", 
        "    </tr>", 
        "    <tr>", 
        "      <th>2</th>", 
        "      <td> 93098:startup</td>", 
        "      <td>      2:user</td>", 
        "      <td>       advisor</td>", 
        "    </tr>", 
        "    <tr>", 
        "      <th>3</th>", 
        "      <td> 44697:startup</td>", 
        "      <td>      2:user</td>", 
        "      <td>       advisor</td>", 
        "    </tr>", 
        "    <tr>", 
        "      <th>4</th>", 
        "      <td> 44093:startup</td>", 
        "      <td>      2:user</td>", 
        "      <td>       advisor</td>", 
        "    </tr>", 
        "    <tr>", 
        "      <th>5</th>", 
        "      <td> 32208:startup</td>", 
        "      <td>      2:user</td>", 
        "      <td>       advisor</td>", 
        "    </tr>", 
        "    <tr>", 
        "      <th>6</th>", 
        "      <td> 38772:startup</td>", 
        "      <td>      2:user</td>", 
        "      <td>      employee</td>", 
        "    </tr>", 
        "    <tr>", 
        "      <th>7</th>", 
        "      <td> 38710:startup</td>", 
        "      <td>      2:user</td>", 
        "      <td>       founder</td>", 
        "    </tr>", 
        "    <tr>", 
        "      <th>8</th>", 
        "      <td>  6702:startup</td>", 
        "      <td>      2:user</td>", 
        "      <td>       founder</td>", 
        "    </tr>", 
        "    <tr>", 
        "      <th>9</th>", 
        "      <td>  6702:startup</td>", 
        "      <td> 401320:user</td>", 
        "      <td>      employee</td>", 
        "    </tr>", 
        "  </tbody>", 
        "</table>", 
        "<p>10 rows \u00d7 3 columns</p>", 
        "</div>"
       ], 
       "output_type": "pyout", 
       "prompt_number": 7, 
       "text": [
        "              v1           v2           role", 
        "0  93098:startup       2:user  past_investor", 
        "1   6702:startup       2:user   board_member", 
        "2  93098:startup       2:user        advisor", 
        "3  44697:startup       2:user        advisor", 
        "4  44093:startup       2:user        advisor", 
        "5  32208:startup       2:user        advisor", 
        "6  38772:startup       2:user       employee", 
        "7  38710:startup       2:user        founder", 
        "8   6702:startup       2:user        founder", 
        "9   6702:startup  401320:user       employee", 
        "", 
        "[10 rows x 3 columns]"
       ]
      }
     ], 
     "prompt_number": 7
    }, 
    {
     "cell_type": "markdown", 
     "source": [
      "We want to see how many distinct roles each user has"
     ]
    }, 
    {
     "cell_type": "code", 
     "collapsed": false, 
     "input": [
      "edges.groupby('v2').apply(lambda v: len(set(list(v.role))))"
     ], 
     "language": "python", 
     "outputs": [
      {
       "output_type": "pyout", 
       "prompt_number": 8, 
       "text": [
        "v2", 
        "100004:user    2", 
        "100006:user    2", 
        "10000:user     5", 
        "100025:user    7", 
        "100029:user    1", 
        "10002:user     1", 
        "100035:user    1", 
        "10003:user     1", 
        "100046:user    1", 
        "100047:user    2", 
        "100060:user    1", 
        "100064:user    2", 
        "100065:user    1", 
        "100071:user    1", 
        "100073:user    1", 
        "...", 
        "99942:user    3", 
        "99946:user    1", 
        "99947:user    3", 
        "99948:user    1", 
        "99956:user    1", 
        "99959:user    2", 
        "9995:user     2", 
        "99961:user    2", 
        "99962:user    1", 
        "99964:user    1", 
        "99970:user    1", 
        "99987:user    1", 
        "99988:user    3", 
        "99989:user    1", 
        "99:user       1", 
        "Length: 72532, dtype: int64"
       ]
      }
     ], 
     "prompt_number": 8
    }, 
    {
     "cell_type": "markdown", 
     "source": [
      "How many startups, users in nodes?"
     ]
    }, 
    {
     "cell_type": "code", 
     "collapsed": false, 
     "input": [
      "(nodes.groupby('type').count())"
     ], 
     "language": "python", 
     "outputs": [
      {
       "html": [
        "<div style=\"max-height:1000px;max-width:1500px;overflow:auto;\">", 
        "<table border=\"1\" class=\"dataframe\">", 
        "  <thead>", 
        "    <tr style=\"text-align: right;\">", 
        "      <th></th>", 
        "      <th>_id</th>", 
        "      <th>bio</th>", 
        "      <th>id</th>", 
        "      <th>name</th>", 
        "      <th>type</th>", 
        "    </tr>", 
        "    <tr>", 
        "      <th>type</th>", 
        "      <th></th>", 
        "      <th></th>", 
        "      <th></th>", 
        "      <th></th>", 
        "      <th></th>", 
        "    </tr>", 
        "  </thead>", 
        "  <tbody>", 
        "    <tr>", 
        "      <th>Startup</th>", 
        "      <td>  1805</td>", 
        "      <td>     0</td>", 
        "      <td>  1805</td>", 
        "      <td>  1753</td>", 
        "      <td>  1805</td>", 
        "    </tr>", 
        "    <tr>", 
        "      <th>User</th>", 
        "      <td> 68478</td>", 
        "      <td> 57737</td>", 
        "      <td> 68478</td>", 
        "      <td> 68478</td>", 
        "      <td> 68478</td>", 
        "    </tr>", 
        "  </tbody>", 
        "</table>", 
        "<p>2 rows \u00d7 5 columns</p>", 
        "</div>"
       ], 
       "output_type": "pyout", 
       "prompt_number": 14, 
       "text": [
        "           _id    bio     id   name   type", 
        "type                                      ", 
        "Startup   1805      0   1805   1753   1805", 
        "User     68478  57737  68478  68478  68478", 
        "", 
        "[2 rows x 5 columns]"
       ]
      }
     ], 
     "prompt_number": 14
    }, 
    {
     "cell_type": "code", 
     "collapsed": false, 
     "input": [
      "nodes.count()"
     ], 
     "language": "python", 
     "outputs": [
      {
       "output_type": "pyout", 
       "prompt_number": 16, 
       "text": [
        "_id     127155", 
        "bio      57737", 
        "id      127155", 
        "name    127103", 
        "type     70283", 
        "dtype: int64"
       ]
      }
     ], 
     "prompt_number": 16
    }, 
    {
     "cell_type": "code", 
     "collapsed": true, 
     "input": [
      "import re"
     ], 
     "language": "python", 
     "outputs": [], 
     "prompt_number": 17
    }, 
    {
     "cell_type": "code", 
     "collapsed": false, 
     "input": [
      "print init"
     ], 
     "language": "python", 
     "outputs": [
      {
       "output_type": "stream", 
       "stream": "stdout", 
       "text": [
        "from pandas import DataFrame as df", 
        "from pandas import Series as ss", 
        "import pandas as pd", 
        "import numpy as np", 
        "import scipy as sp", 
        "import sklearn as sk", 
        "import pymc as pm", 
        ""
       ]
      }
     ], 
     "prompt_number": 18
    }, 
    {
     "cell_type": "code", 
     "collapsed": true, 
     "input": [
      "import pymongo as mon"
     ], 
     "language": "python", 
     "outputs": [], 
     "prompt_number": 30
    }, 
    {
     "cell_type": "code", 
     "collapsed": true, 
     "input": [
      "c = mon.Connection()"
     ], 
     "language": "python", 
     "outputs": [], 
     "prompt_number": 31
    }, 
    {
     "cell_type": "code", 
     "collapsed": false, 
     "input": [
      "ange = c['mock_angeldb'].edges"
     ], 
     "language": "python", 
     "outputs": [], 
     "prompt_number": 33
    }, 
    {
     "cell_type": "code", 
     "collapsed": true, 
     "input": [
      "angn = c['mock_angeldb'].nodes"
     ], 
     "language": "python", 
     "outputs": [], 
     "prompt_number": 36
    }, 
    {
     "cell_type": "markdown", 
     "source": [
      "Find all VCs, angels, incubators etc. using string pattern match. Faster to do this through MongoDB for now."
     ]
    }, 
    {
     "cell_type": "code", 
     "collapsed": true, 
     "input": [
      "import re"
     ], 
     "language": "python", 
     "outputs": [], 
     "prompt_number": 37
    }, 
    {
     "cell_type": "code", 
     "collapsed": true, 
     "input": [
      "vcf_pattern = re.compile('venture|capital|incub|fund|collect|angel', re.IGNORECASE)"
     ], 
     "language": "python", 
     "outputs": [], 
     "prompt_number": 40
    }, 
    {
     "cell_type": "code", 
     "collapsed": false, 
     "input": [
      "vcf_ids = [str(i['id']) for i in ", 
      "           angn.find({'$and': ", 
      "                      [{'id_type':'startup'}, {'name':vcf_pattern}]", 
      "                      })]"
     ], 
     "language": "python", 
     "outputs": [], 
     "prompt_number": 128
    }, 
    {
     "cell_type": "code", 
     "collapsed": false, 
     "input": [
      "vcf_set = set(vcf_ids)", 
      "print '\\n'.join([angn.find_one({'id': int(x), 'id_type': 'startup'})['name'] for x in list(vcf_set)[:15]])", 
      "print '... there are %d VC/funding companies.' % len(vcf_set)"
     ], 
     "language": "python", 
     "outputs": [
      {
       "output_type": "stream", 
       "stream": "stdout", 
       "text": [
        "Gain Capital", 
        "Athens Angel Fund", 
        "Elevator Fund", 
        "Alliance Venture", 
        "AC Lion Venture Partners", 
        "Grosvenor Capital Management", 
        "Angel Investors Consortium", 
        "www.moksaventures.com", 
        "Golden Gate Ventures", 
        "Wharton Angel Network", 
        "initial : capital", 
        "Oregon Angel Fund", 
        "Outsourcing Angels", 
        "Black Oak Capital", 
        "Redrock Capital Fund II", 
        "... there are 2053 VC/funding companies."
       ]
      }
     ], 
     "prompt_number": 145
    }, 
    {
     "cell_type": "code", 
     "collapsed": false, 
     "input": [
      "vcf_pattern2 = re.compile('|'.join(vcf_set)) # single pattern for all VCs"
     ], 
     "language": "python", 
     "outputs": [], 
     "prompt_number": 211
    }, 
    {
     "cell_type": "code", 
     "collapsed": true, 
     "input": [
      "startup_pattern = re.compile('startup')"
     ], 
     "language": "python", 
     "outputs": [], 
     "prompt_number": 212
    }, 
    {
     "cell_type": "markdown", 
     "source": [
      "Consider only (startup, vc) and (vc, startup) edges for now."
     ]
    }, 
    {
     "cell_type": "code", 
     "collapsed": false, 
     "input": [
      "svc_edges = ange.find({'$and': [", 
      "                                {'$and': [{'v1': startup_pattern}, {'v2': startup_pattern}]},", 
      "                                {'$or': [{'v1': vcf_pattern2}, {'v2': vcf_pattern2}]}", 
      "                                ]", 
      "                       })", 
      "l = [i for i in svc_edges]", 
      "len(l)"
     ], 
     "language": "python", 
     "outputs": [
      {
       "output_type": "pyout", 
       "prompt_number": 213, 
       "text": [
        "2812"
       ]
      }
     ], 
     "prompt_number": 213
    }, 
    {
     "cell_type": "code", 
     "collapsed": false, 
     "input": [
      "l[11:14]"
     ], 
     "language": "python", 
     "outputs": [
      {
       "output_type": "pyout", 
       "prompt_number": 214, 
       "text": [
        "[{u'_id': ObjectId('52fd62973a90ee3bc50000e1'),", 
        "  u'crawled_on': 1392337559,", 
        "  u'id': 484304,", 
        "  u'role': u'past_investor',", 
        "  u'v1': u'89601:startup',", 
        "  u'v2': u'93098:startup'},", 
        " {u'_id': ObjectId('52fd62973a90ee3bc50000e7'),", 
        "  u'crawled_on': 1392337559,", 
        "  u'id': 475564,", 
        "  u'role': u'customer',", 
        "  u'v1': u'6702:startup',", 
        "  u'v2': u'93098:startup'},", 
        " {u'_id': ObjectId('52fd629b3a90ee3bc5000132'),", 
        "  u'crawled_on': 1392337563,", 
        "  u'id': 791830,", 
        "  u'role': u'past_investor',", 
        "  u'v1': u'44697:startup',", 
        "  u'v2': u'247481:startup'}]"
       ]
      }
     ], 
     "prompt_number": 214
    }, 
    {
     "cell_type": "code", 
     "collapsed": false, 
     "input": [
      "'6702' in vcf_set"
     ], 
     "language": "python", 
     "outputs": [
      {
       "output_type": "pyout", 
       "prompt_number": 222, 
       "text": [
        "True"
       ]
      }
     ], 
     "prompt_number": 222
    }, 
    {
     "cell_type": "markdown", 
     "source": [
      "A startup is defined as a node in an edge with a VC. So, startups may also be VCs"
     ]
    }, 
    {
     "cell_type": "code", 
     "collapsed": false, 
     "input": [
      "startups = [i['v2'] for i in l if i['v1'].split(':')[0] in vcf_set]", 
      "startups.extend([i['v1'] for i in l if i['v2'].split(':')[0] in vcf_set])", 
      "startups_set = set(startups)", 
      "startups_list = list(startups_set)", 
      "startups_list.sort()", 
      "vcf_list = ['%s:startup' % i for i in vcf_ids]", 
      "vcf_list.sort()", 
      "len(startups_list)"
     ], 
     "language": "python", 
     "outputs": [
      {
       "output_type": "pyout", 
       "prompt_number": 216, 
       "text": [
        "1845"
       ]
      }
     ], 
     "prompt_number": 216
    }, 
    {
     "cell_type": "markdown", 
     "source": [
      "The approach above seems wrong, since we still obtain cases where no VC has made any investment or has any connection with a startup.", 
      "", 
      "So we will try another tack: startups include VCs."
     ]
    }, 
    {
     "cell_type": "code", 
     "collapsed": false, 
     "input": [
      "startups = [i['v1'] for i in l]", 
      "startups.extend([i['v2'] for i in l])", 
      "startups_set = set(startups)", 
      "# identify startups that are VCs", 
      "vc = startups_set.intersection(set(['%s:startup' % i for i in vcf_ids]))", 
      "print len(vc)", 
      "# remaining startups are not VCs", 
      "st = startups_set.difference(vc)", 
      "print len(st)", 
      "# create a list of VCs and sort them", 
      "vcf_list = list(vc)", 
      "vcf_list.sort()", 
      "print ','.join(vcf_list[:5])", 
      "# create a list of startups with VCs in front (need to do a deep copy)", 
      "startups_list = []", 
      "for i in xrange(len(vcf_list)):", 
      "    startups_list.append(vcf_list[i])", 
      "t = list(st)", 
      "t.sort()", 
      "startups_list.extend(t)", 
      "print ','.join(startups_list[:5])"
     ], 
     "language": "python", 
     "outputs": [
      {
       "output_type": "stream", 
       "stream": "stdout", 
       "text": [
        "624", 
        "1913", 
        "100908:startup,100925:startup,101852:startup,102317:startup,102455:startup", 
        "100908:startup,100925:startup,101852:startup,102317:startup,102455:startup"
       ]
      }
     ], 
     "prompt_number": 300
    }, 
    {
     "cell_type": "code", 
     "collapsed": false, 
     "input": [
      "vcf_startup_array = np.ndarray([len(vcf_list), len(startups_list)], dtype=int)", 
      "vcf_startup_array.shape"
     ], 
     "language": "python", 
     "outputs": [
      {
       "output_type": "pyout", 
       "prompt_number": 301, 
       "text": [
        "(624, 2537)"
       ]
      }
     ], 
     "prompt_number": 301
    }, 
    {
     "cell_type": "code", 
     "collapsed": false, 
     "input": [
      "import random", 
      "[l[i] for i in random.sample(xrange(len(l)), 4)]"
     ], 
     "language": "python", 
     "outputs": [
      {
       "output_type": "pyout", 
       "prompt_number": 303, 
       "text": [
        "[{u'_id': ObjectId('5308a1bf3a90ee5768001111'),", 
        "  u'crawled_on': 1393074623,", 
        "  u'id': 523097,", 
        "  u'role': u'incubator',", 
        "  u'v1': u'163009:startup',", 
        "  u'v2': u'171925:startup'},", 
        " {u'_id': ObjectId('530a1f873a90ee61cd030eb4'),", 
        "  u'crawled_on': 1393172359,", 
        "  u'id': 618622,", 
        "  u'role': u'past_investor',", 
        "  u'v1': u'38672:startup',", 
        "  u'v2': u'57704:startup'},", 
        " {u'_id': ObjectId('5307f0b93a90ee064700044d'),", 
        "  u'crawled_on': 1393029305,", 
        "  u'id': 621522,", 
        "  u'role': u'past_investor',", 
        "  u'v1': u'3979:startup',", 
        "  u'v2': u'42025:startup'},", 
        " {u'_id': ObjectId('530771753a90ee49330019bb'),", 
        "  u'crawled_on': 1392996725,", 
        "  u'id': 508928,", 
        "  u'role': u'incubator',", 
        "  u'v1': u'127021:startup',", 
        "  u'v2': u'170483:startup'}]"
       ]
      }
     ], 
     "prompt_number": 303
    }, 
    {
     "cell_type": "code", 
     "collapsed": false, 
     "input": [
      "startups_dict = dict(zip(startups_list, xrange(len(startups_list))))", 
      "vcf_dict = dict(zip(vcf_list, xrange(len(vcf_list))))"
     ], 
     "language": "python", 
     "outputs": [], 
     "prompt_number": 304
    }, 
    {
     "cell_type": "code", 
     "collapsed": false, 
     "input": [
      "ctr = 0", 
      "for edge in l:", 
      "    v1 = edge['v1'].split(':')[0]", 
      "    v2 = edge['v2'].split(':')[0]", 
      "    if v1 in vcf_set:", 
      "        vcf_startup_array[(vcf_dict[edge['v1']], startups_dict[edge['v2']])] = 1", 
      "    elif v2 in vcf_set:", 
      "        vcf_startup_array[(vcf_dict[edge['v2']], startups_dict[edge['v1']])] = 1", 
      "    else:", 
      "        ctr += 1", 
      "print '%d edges do not have a VC.' % ctr"
     ], 
     "language": "python", 
     "outputs": [
      {
       "output_type": "stream", 
       "stream": "stdout", 
       "text": [
        "97 edges do not have a VC."
       ]
      }
     ], 
     "prompt_number": 305
    }, 
    {
     "cell_type": "markdown", 
     "source": [
      "Find the startup with the most relationships with VC"
     ]
    }, 
    {
     "cell_type": "code", 
     "collapsed": false, 
     "input": [
      "print vcf_startup_array.sum(axis=0).argmax()", 
      "vcf_startup_array.sum(axis=0)[1563] # number of relationships"
     ], 
     "language": "python", 
     "outputs": [
      {
       "output_type": "stream", 
       "stream": "stdout", 
       "text": [
        "1563"
       ]
      }, 
      {
       "output_type": "pyout", 
       "prompt_number": 307, 
       "text": [
        "7"
       ]
      }
     ], 
     "prompt_number": 307
    }, 
    {
     "cell_type": "markdown", 
     "source": [
      "It's Yammer!"
     ]
    }, 
    {
     "cell_type": "code", 
     "collapsed": false, 
     "input": [
      "print startups_list[1563]", 
      "angn.find_one({'id':32545, 'id_type':'startup'})"
     ], 
     "language": "python", 
     "outputs": [
      {
       "output_type": "stream", 
       "stream": "stdout", 
       "text": [
        "32545:startup"
       ]
      }, 
      {
       "output_type": "pyout", 
       "prompt_number": 308, 
       "text": [
        "{u'_id': ObjectId('52fd633b3a90ee3bc5001067'),", 
        " u'angellist_url': u'https://angel.co/yammer',", 
        " u'community_profile': False,", 
        " u'company_url': u'http://www.yammer.com',", 
        " u'created_at': u'2012-01-17T23:26:24Z',", 
        " u'follower_count': 364,", 
        " u'hidden': False,", 
        " u'high_concept': u'The enterprise social network',", 
        " u'id': 32545,", 
        " u'id_type': u'startup',", 
        " u'logo_url': u'https://s3.amazonaws.com/photos.angel.co/startups/i/32545-2640bdea086a53dc790183922c7e4788-medium_jpg.jpg?buster=1326842784',", 
        " u'name': u'Yammer',", 
        " u'product_desc': u'Yammer is the free private social network for your company.\\n\\nYammer brings the power of social networking inside the enterprise in a private and secure environment.\\n\\nYammer has the same level of usability as great consumer software like Facebook and Twitter, but its applications have been designed for business collaboration.\\n\\nWhy waste time and money trying to mandate tools that your employees resist adopting? Yammer is productivity software that employees love to use.',", 
        " u'quality': 10,", 
        " u'request_type': u'default',", 
        " u'thumb_url': u'https://s3.amazonaws.com/photos.angel.co/startups/i/32545-2640bdea086a53dc790183922c7e4788-thumb_jpg.jpg?buster=1326842784',", 
        " u'updated_at': u'2012-04-02T17:23:17Z'}"
       ]
      }
     ], 
     "prompt_number": 308
    }, 
    {
     "cell_type": "markdown", 
     "source": [
      "Find the VC with the most investments/relationships with startups"
     ]
    }, 
    {
     "cell_type": "code", 
     "collapsed": false, 
     "input": [
      "print vcf_startup_array.sum(axis=1).argmax()", 
      "print vcf_startup_array.sum(axis=1)[619] # number of relationships", 
      "print vcf_list[619]"
     ], 
     "language": "python", 
     "outputs": [
      {
       "output_type": "stream", 
       "stream": "stdout", 
       "text": [
        "619", 
        "51", 
        "97566:startup"
       ]
      }
     ], 
     "prompt_number": 312
    }, 
    {
     "cell_type": "markdown", 
     "source": [
      "It's DreamIt Ventures!"
     ]
    }, 
    {
     "cell_type": "code", 
     "collapsed": false, 
     "input": [
      "angn.find_one({'id': 97566, 'id_type': 'startup'})"
     ], 
     "language": "python", 
     "outputs": [
      {
       "output_type": "pyout", 
       "prompt_number": 254, 
       "text": [
        "{u'_id': ObjectId('53073fcd3a90ee2cbf000984'),", 
        " u'angellist_url': u'https://angel.co/dreamit-ventures',", 
        " u'community_profile': False,", 
        " u'company_url': u'http://www.dreamitventures.com',", 
        " u'created_at': u'2012-06-16T10:53:24Z',", 
        " u'follower_count': 1386,", 
        " u'hidden': False,", 
        " u'high_concept': u'Helping great people build great companies',", 
        " u'id': 97566,", 
        " u'id_type': u'startup',", 
        " u'logo_url': u'https://s3.amazonaws.com/photos.angel.co/startups/i/97566-5954865883f60373d4227dfa4aeb9dde-medium_jpg.jpg?buster=1353374355',", 
        " u'name': u'DreamIt Ventures',", 
        " u'product_desc': u\"DreamIt's mission is to help great people build great companies.  DreamIt provides the aspiring entrepreneurs that it selects with pre-seed funding (up to $25K), services from leading law firms and accounting firms, mentoring from seasoned entrepreneurs, access to capital (including follow-on investing from DreamIt's fund), and working space in a creative, rigorous environment to bring innovative business ideas to market. \\n\\nSince 2008, DreamIt has helped launch 127 companies through its programs in Philly, NY, Tel Aviv and Austin and is proud to become a part of Baltimore's startup scene this January with the second installation of its DreamIt Health Tech accelerator. DreamIt's companies have gone on to raise over $100M in follow-on funding and are worth close to $380M to date.\",", 
        " u'quality': 7,", 
        " u'request_type': u'default',", 
        " u'thumb_url': u'https://s3.amazonaws.com/photos.angel.co/startups/i/97566-5954865883f60373d4227dfa4aeb9dde-thumb_jpg.jpg?buster=1353374355',", 
        " u'type': u'Startup',", 
        " u'updated_at': u'2013-11-19T21:02:32Z'}"
       ]
      }
     ], 
     "prompt_number": 254
    }, 
    {
     "cell_type": "markdown", 
     "source": [
      "How many VCs have more than 20 edges with startups?"
     ]
    }, 
    {
     "cell_type": "code", 
     "collapsed": false, 
     "input": [
      "vsa = pd.Series(vcf_startup_array.sum(axis=1))", 
      "print vsa[vsa>=32].size", 
      "print vsa[vsa>=16].size", 
      "print vsa[vsa>=8].size", 
      "print vsa[vsa>=4].size", 
      "print vsa[vsa>=2].size", 
      "print vsa[vsa>=1].size", 
      "print vsa[vsa>=0].size # 8 VCs still don't have any edges"
     ], 
     "language": "python", 
     "outputs": [
      {
       "output_type": "stream", 
       "stream": "stdout", 
       "text": [
        "3", 
        "33", 
        "95", 
        "214", 
        "364", 
        "616", 
        "624"
       ]
      }
     ], 
     "prompt_number": 326
    }, 
    {
     "cell_type": "code", 
     "collapsed": true, 
     "input": [
      "np.savetxt('dump.txt', np.asarray(vcf_startup_array, dtype=int), fmt='%d', delimiter=',')"
     ], 
     "language": "python", 
     "outputs": [], 
     "prompt_number": 331
    }, 
    {
     "cell_type": "code", 
     "collapsed": true, 
     "input": [], 
     "language": "python", 
     "outputs": []
    }
   ]
  }
 ]
}